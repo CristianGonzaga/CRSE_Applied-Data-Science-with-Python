{
 "cells": [
  {
   "cell_type": "markdown",
   "id": "994f26b8-793d-479e-97c6-6723352332aa",
   "metadata": {},
   "source": [
    "## Quiz 1"
   ]
  },
  {
   "cell_type": "markdown",
   "id": "29220e24-8cfd-4650-b8f1-9c3ec57a223a",
   "metadata": {},
   "source": [
    "### Pregunta 1.\n",
    "\"What will be the output of the following code?"
   ]
  },
  {
   "cell_type": "code",
   "execution_count": 2,
   "id": "4f1bfedd-258b-4fa2-9f3c-dab96f14373c",
   "metadata": {},
   "outputs": [],
   "source": [
    "import re"
   ]
  },
  {
   "cell_type": "code",
   "execution_count": 3,
   "id": "0cb8a1d2-d8cc-4672-ad8d-b41c0b509937",
   "metadata": {},
   "outputs": [
    {
     "name": "stdout",
     "output_type": "stream",
     "text": [
      "['bat', 'bot']\n"
     ]
    }
   ],
   "source": [
    "string = 'bat, lat, mat, bet, let, met, bit, lit, mit, bot, lot, mot'\n",
    "result = re.findall('b[ao]t', string)\n",
    "print(result)"
   ]
  },
  {
   "cell_type": "markdown",
   "id": "4d2a0da2-91f4-4e1c-be7e-10311748ff0f",
   "metadata": {},
   "source": [
    "### Pregunta 3\n",
    "Consider the following variables in Python:"
   ]
  },
  {
   "cell_type": "code",
   "execution_count": 7,
   "id": "1a12f2dc-5064-4c8a-b5b7-8632f1885359",
   "metadata": {},
   "outputs": [],
   "source": [
    "import numpy as np\n",
    "a1 = np.random.rand(4)\n",
    "a2 = np.random.rand(4, 1)\n",
    "a3 = np.array([[1, 2, 3, 4]])\n",
    "a4 = np.arange(1, 4, 1)\n",
    "a5 = np.linspace(1 ,4, 4)"
   ]
  },
  {
   "cell_type": "code",
   "execution_count": 12,
   "id": "b654ab26-4915-49ec-90a1-fa2f7186372b",
   "metadata": {},
   "outputs": [
    {
     "name": "stdout",
     "output_type": "stream",
     "text": [
      "True False False\n"
     ]
    }
   ],
   "source": [
    "print(#a4.ndim() == 1,\n",
    "      a5.shape == a1.shape,\n",
    "      a3.shape == a4.shape,\n",
    "      a1.shape == a2.shape)"
   ]
  },
  {
   "cell_type": "markdown",
   "id": "8fd9b68a-6fb2-4471-af5e-92d37690ce8c",
   "metadata": {},
   "source": [
    "### Pregunta 4\n",
    "Which of the following is the correct output for the code given below?"
   ]
  },
  {
   "cell_type": "code",
   "execution_count": 32,
   "id": "e2686309-1792-4180-b1b7-788ffdaafb75",
   "metadata": {},
   "outputs": [
    {
     "name": "stdout",
     "output_type": "stream",
     "text": [
      "[[0 0 1]\n",
      " [1 1 1]]\n"
     ]
    }
   ],
   "source": [
    "import numpy as np\n",
    "\n",
    "old = np.array([[1, 1, 1], [1, 1, 1]])\n",
    "new = old\n",
    "new[0, :2] = 0\n",
    "\n",
    "print(old)"
   ]
  },
  {
   "cell_type": "markdown",
   "id": "12e471cc-c602-4655-a6d7-8a3df6e9a7bc",
   "metadata": {},
   "source": [
    "### Pregunta 6\n",
    "For the given string, which of the following regular expressions can be used to check if the string starts with 'AC'?"
   ]
  },
  {
   "cell_type": "code",
   "execution_count": 37,
   "id": "c11640a5-7049-44c1-925e-0e7e99283edc",
   "metadata": {},
   "outputs": [
    {
     "data": {
      "text/plain": [
       "['AC']"
      ]
     },
     "execution_count": 37,
     "metadata": {},
     "output_type": "execute_result"
    }
   ],
   "source": [
    "import re \n",
    "s = 'ACBCAC'\n",
    "\n",
    "re.findall('^AC', s)"
   ]
  },
  {
   "cell_type": "markdown",
   "id": "f4eda72a-a060-4093-8fe9-c1ef96a5f534",
   "metadata": {},
   "source": [
    "### Pregunta 7\n",
    "What will be the output of the variable L after the following code is executed?"
   ]
  },
  {
   "cell_type": "code",
   "execution_count": 15,
   "id": "870d89c5-c2fc-410c-b0b8-7bf6c17e8951",
   "metadata": {},
   "outputs": [],
   "source": [
    "import re\n",
    "s = 'ACAABAACAAAB'\n",
    "result = re.findall('A{1,2}', s)\n",
    "L = len(result)"
   ]
  },
  {
   "cell_type": "code",
   "execution_count": 17,
   "id": "b49c2ac7-8085-4a15-aab7-7a672f237ed2",
   "metadata": {},
   "outputs": [
    {
     "name": "stdout",
     "output_type": "stream",
     "text": [
      "5 ['A', 'AA', 'AA', 'AA', 'A']\n"
     ]
    }
   ],
   "source": [
    "print(L,result)"
   ]
  },
  {
   "cell_type": "markdown",
   "id": "5b5d46bf-1b6e-4eea-a529-21400dc38cde",
   "metadata": {},
   "source": [
    "### Pregunta 8\n",
    "Which of the following is the correct regular expression to extract all the phone numbers from the following chunk of text:\n",
    "\n",
    "Office of Research Administration: (734) 647-6333 | 4325 North Quad\n",
    "Office of Budget and Financial Administration: (734) 647-8044 | 309 Maynard, Suite 205\n",
    "Health Informatics Program: (734) 763-2285 | 333 Maynard, Suite 500\n",
    "Office of the Dean: (734) 647-3576 | 4322 North Quad\n",
    "UMSI Engagement Center: (734) 763-1251 | 777 North University\n",
    "Faculty Adminstrative Support Staff: (734) 764-9376 | 4322 North Quad"
   ]
  },
  {
   "cell_type": "code",
   "execution_count": 18,
   "id": "59730088-223d-4419-9f51-8d8a750e19c8",
   "metadata": {},
   "outputs": [],
   "source": [
    "text = \"\"\"Office of Research Administration: (734) 647-6333 | 4325 North Quad\n",
    "Office of Budget and Financial Administration: (734) 647-8044 | 309 Maynard, Suite 205\n",
    "Health Informatics Program: (734) 763-2285 | 333 Maynard, Suite 500\n",
    "Office of the Dean: (734) 647-3576 | 4322 North Quad\n",
    "UMSI Engagement Center: (734) 763-1251 | 777 North University\n",
    "Faculty Adminstrative Support Staff: (734) 764-9376 | 4322 North Quad\"\"\""
   ]
  },
  {
   "cell_type": "code",
   "execution_count": 21,
   "id": "50b69f1b-cea7-4ff5-bbaf-cbfb83e580e8",
   "metadata": {},
   "outputs": [
    {
     "data": {
      "text/plain": [
       "['(734) 647-6333',\n",
       " '(734) 647-8044',\n",
       " '(734) 763-2285',\n",
       " '(734) 647-3576',\n",
       " '(734) 763-1251',\n",
       " '(734) 764-9376']"
      ]
     },
     "execution_count": 21,
     "metadata": {},
     "output_type": "execute_result"
    }
   ],
   "source": [
    "pattern = '[(]\\d{3}[)]\\s\\d{3}[-]\\d{4}'\n",
    "re.findall(pattern,text)"
   ]
  },
  {
   "cell_type": "markdown",
   "id": "9a1de580-a4a0-41bf-8ee3-6278804b20bf",
   "metadata": {},
   "source": [
    "### Pregunta 9\n",
    "Which of the following regular expressions can be used to get the domain names (e.g. google.com, www.baidu.com) from the following sentence?"
   ]
  },
  {
   "cell_type": "code",
   "execution_count": 26,
   "id": "c2937de5-13af-4887-b63e-693527094a7e",
   "metadata": {},
   "outputs": [
    {
     "data": {
      "text/plain": [
       "['google.com', 'www.baidu.com']"
      ]
     },
     "execution_count": 26,
     "metadata": {},
     "output_type": "execute_result"
    }
   ],
   "source": [
    "sentence = \"'I refer to https://google.com and I never refer http://www.baidu.com if I have to search anything'\"\n",
    "pattern = '(?<=[https]:\\/\\/)([A-Za-z0-9.]*)'\n",
    "\n",
    "re.findall(pattern,sentence)"
   ]
  },
  {
   "cell_type": "markdown",
   "id": "30054bfa-96fa-4032-8390-08cc4e2783d4",
   "metadata": {},
   "source": [
    "### Pregunta 10\n",
    "The text from the Canadian Charter of Rights and Freedoms section 2 lists the fundamental freedoms afforded to everyone. Of the four choices provided to replace X in the code below, which would accurately count the number of fundamental freedoms that Canadians have?"
   ]
  },
  {
   "cell_type": "code",
   "execution_count": 31,
   "id": "d61a9a72-7d20-4362-b4c1-09de65eca149",
   "metadata": {},
   "outputs": [
    {
     "name": "stdout",
     "output_type": "stream",
     "text": [
      "4\n"
     ]
    }
   ],
   "source": [
    "text=r'''Everyone has the following fundamental freedoms:\n",
    "    (a) freedom of conscience and religion;\n",
    "    (b) freedom of thought, belief, opinion and expression, including freedom of the press and other media of communication;\n",
    "    (c) freedom of peaceful assembly; and\n",
    "    (d) freedom of association.'''\n",
    "\n",
    "import re\n",
    "pattern = '\\(.\\)'\n",
    "print(len(re.findall(pattern,text)))"
   ]
  },
  {
   "cell_type": "code",
   "execution_count": null,
   "id": "b38a94b3-2ecc-42b1-a728-b9e5f99e8352",
   "metadata": {},
   "outputs": [],
   "source": []
  }
 ],
 "metadata": {
  "kernelspec": {
   "display_name": "Python 3 (ipykernel)",
   "language": "python",
   "name": "python3"
  },
  "language_info": {
   "codemirror_mode": {
    "name": "ipython",
    "version": 3
   },
   "file_extension": ".py",
   "mimetype": "text/x-python",
   "name": "python",
   "nbconvert_exporter": "python",
   "pygments_lexer": "ipython3",
   "version": "3.8.10"
  }
 },
 "nbformat": 4,
 "nbformat_minor": 5
}
